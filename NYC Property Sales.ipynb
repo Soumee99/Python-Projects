{
 "cells": [
  {
   "cell_type": "markdown",
   "id": "eb2699ef",
   "metadata": {},
   "source": [
    "**Dataset**\n",
    "\n",
    "The name of the dataset is sales.csv\n",
    "\n",
    "**Context**\n",
    "\n",
    "This dataset is a record of some building or building unit (apartment, etc.) sold in the New York City property market over a 8-month period.\n",
    "\n",
    "**Content**\n",
    "\n",
    "This dataset contains the location, address, type, sale price, and sale date of building units sold. A reference on the trickier fields:\n",
    "\n",
    "    BOROUGH: A digit code for the borough the property is located in; in order these are Manhattan (1), Bronx (2), Brooklyn (3), Queens (4), and Staten Island (5).\n",
    "    BLOCK, LOT: The combination of borough, block, and lot forms a unique key for property in New York City. Commonly called a BBL.\n",
    "\n",
    "Note that because this is a financial transaction dataset, there are some points that need to be kept in mind:\n",
    "\n",
    "    Many sales occur with a nonsensically small dollar amount: $0 most commonly. These sales are actually transfers of deeds between parties: for example, parents transferring ownership to their home to a child after moving out for retirement."
   ]
  },
  {
   "cell_type": "markdown",
   "id": "4b259d6d",
   "metadata": {},
   "source": [
    "Import the sales.csv dataset"
   ]
  },
  {
   "cell_type": "code",
   "execution_count": 1,
   "id": "a604739b",
   "metadata": {},
   "outputs": [],
   "source": [
    "import pandas as pd"
   ]
  },
  {
   "cell_type": "code",
   "execution_count": 2,
   "id": "d28ee3e4",
   "metadata": {},
   "outputs": [],
   "source": [
    "df=pd.read_csv(\"data\\\\sales.csv\")"
   ]
  },
  {
   "cell_type": "markdown",
   "id": "743e50cc",
   "metadata": {},
   "source": [
    "check the info of the dataset"
   ]
  },
  {
   "cell_type": "code",
   "execution_count": 3,
   "id": "ecaf5d45",
   "metadata": {},
   "outputs": [
    {
     "name": "stdout",
     "output_type": "stream",
     "text": [
      "<class 'pandas.core.frame.DataFrame'>\n",
      "RangeIndex: 3579 entries, 0 to 3578\n",
      "Data columns (total 15 columns):\n",
      " #   Column                   Non-Null Count  Dtype \n",
      "---  ------                   --------------  ----- \n",
      " 0   BOROUGH                  3579 non-null   int64 \n",
      " 1   NEIGHBORHOOD             3579 non-null   object\n",
      " 2   BUILDING CLASS CATEGORY  3579 non-null   object\n",
      " 3   TAX CLASS AT PRESENT     3579 non-null   object\n",
      " 4   BLOCK                    3579 non-null   int64 \n",
      " 5   LOT                      3579 non-null   int64 \n",
      " 6   ADDRESS                  3579 non-null   object\n",
      " 7   ZIP CODE                 3579 non-null   int64 \n",
      " 8   RESIDENTIAL UNITS        3579 non-null   int64 \n",
      " 9   COMMERCIAL UNITS         3579 non-null   int64 \n",
      " 10  TOTAL UNITS              3579 non-null   int64 \n",
      " 11  LAND SQUARE FEET         3579 non-null   int64 \n",
      " 12  YEAR BUILT               3579 non-null   int64 \n",
      " 13  SALE PRICE               3579 non-null   int64 \n",
      " 14  SALE DATE                3579 non-null   object\n",
      "dtypes: int64(10), object(5)\n",
      "memory usage: 419.5+ KB\n"
     ]
    }
   ],
   "source": [
    "df.info()"
   ]
  },
  {
   "cell_type": "markdown",
   "id": "4f7578b5",
   "metadata": {},
   "source": [
    "check the description of the dataset"
   ]
  },
  {
   "cell_type": "code",
   "execution_count": 4,
   "id": "de78b7cb",
   "metadata": {},
   "outputs": [
    {
     "data": {
      "text/html": [
       "<div>\n",
       "<style scoped>\n",
       "    .dataframe tbody tr th:only-of-type {\n",
       "        vertical-align: middle;\n",
       "    }\n",
       "\n",
       "    .dataframe tbody tr th {\n",
       "        vertical-align: top;\n",
       "    }\n",
       "\n",
       "    .dataframe thead th {\n",
       "        text-align: right;\n",
       "    }\n",
       "</style>\n",
       "<table border=\"1\" class=\"dataframe\">\n",
       "  <thead>\n",
       "    <tr style=\"text-align: right;\">\n",
       "      <th></th>\n",
       "      <th>BOROUGH</th>\n",
       "      <th>BLOCK</th>\n",
       "      <th>LOT</th>\n",
       "      <th>ZIP CODE</th>\n",
       "      <th>RESIDENTIAL UNITS</th>\n",
       "      <th>COMMERCIAL UNITS</th>\n",
       "      <th>TOTAL UNITS</th>\n",
       "      <th>LAND SQUARE FEET</th>\n",
       "      <th>YEAR BUILT</th>\n",
       "      <th>SALE PRICE</th>\n",
       "    </tr>\n",
       "  </thead>\n",
       "  <tbody>\n",
       "    <tr>\n",
       "      <th>count</th>\n",
       "      <td>3579.000000</td>\n",
       "      <td>3579.000000</td>\n",
       "      <td>3579.000000</td>\n",
       "      <td>3579.000000</td>\n",
       "      <td>3579.000000</td>\n",
       "      <td>3579.000000</td>\n",
       "      <td>3579.000000</td>\n",
       "      <td>3.579000e+03</td>\n",
       "      <td>3579.000000</td>\n",
       "      <td>3.579000e+03</td>\n",
       "    </tr>\n",
       "    <tr>\n",
       "      <th>mean</th>\n",
       "      <td>2.966192</td>\n",
       "      <td>4150.419670</td>\n",
       "      <td>381.842414</td>\n",
       "      <td>10680.873987</td>\n",
       "      <td>2.290025</td>\n",
       "      <td>0.153674</td>\n",
       "      <td>2.473875</td>\n",
       "      <td>3.605483e+03</td>\n",
       "      <td>1782.920648</td>\n",
       "      <td>1.005316e+06</td>\n",
       "    </tr>\n",
       "    <tr>\n",
       "      <th>std</th>\n",
       "      <td>1.294840</td>\n",
       "      <td>3531.382379</td>\n",
       "      <td>637.913571</td>\n",
       "      <td>1447.476149</td>\n",
       "      <td>31.872076</td>\n",
       "      <td>3.250381</td>\n",
       "      <td>32.387727</td>\n",
       "      <td>7.225966e+04</td>\n",
       "      <td>547.202378</td>\n",
       "      <td>3.513772e+06</td>\n",
       "    </tr>\n",
       "    <tr>\n",
       "      <th>min</th>\n",
       "      <td>1.000000</td>\n",
       "      <td>3.000000</td>\n",
       "      <td>1.000000</td>\n",
       "      <td>0.000000</td>\n",
       "      <td>0.000000</td>\n",
       "      <td>0.000000</td>\n",
       "      <td>0.000000</td>\n",
       "      <td>0.000000e+00</td>\n",
       "      <td>0.000000</td>\n",
       "      <td>0.000000e+00</td>\n",
       "    </tr>\n",
       "    <tr>\n",
       "      <th>25%</th>\n",
       "      <td>2.000000</td>\n",
       "      <td>1323.500000</td>\n",
       "      <td>22.000000</td>\n",
       "      <td>10303.000000</td>\n",
       "      <td>0.000000</td>\n",
       "      <td>0.000000</td>\n",
       "      <td>1.000000</td>\n",
       "      <td>0.000000e+00</td>\n",
       "      <td>1920.000000</td>\n",
       "      <td>0.000000e+00</td>\n",
       "    </tr>\n",
       "    <tr>\n",
       "      <th>50%</th>\n",
       "      <td>3.000000</td>\n",
       "      <td>3164.000000</td>\n",
       "      <td>50.000000</td>\n",
       "      <td>11208.000000</td>\n",
       "      <td>1.000000</td>\n",
       "      <td>0.000000</td>\n",
       "      <td>1.000000</td>\n",
       "      <td>1.710000e+03</td>\n",
       "      <td>1940.000000</td>\n",
       "      <td>4.300000e+05</td>\n",
       "    </tr>\n",
       "    <tr>\n",
       "      <th>75%</th>\n",
       "      <td>4.000000</td>\n",
       "      <td>6067.500000</td>\n",
       "      <td>1002.000000</td>\n",
       "      <td>11355.000000</td>\n",
       "      <td>2.000000</td>\n",
       "      <td>0.000000</td>\n",
       "      <td>2.000000</td>\n",
       "      <td>2.668500e+03</td>\n",
       "      <td>1966.000000</td>\n",
       "      <td>8.475000e+05</td>\n",
       "    </tr>\n",
       "    <tr>\n",
       "      <th>max</th>\n",
       "      <td>5.000000</td>\n",
       "      <td>16316.000000</td>\n",
       "      <td>7232.000000</td>\n",
       "      <td>11694.000000</td>\n",
       "      <td>1844.000000</td>\n",
       "      <td>184.000000</td>\n",
       "      <td>1866.000000</td>\n",
       "      <td>4.228300e+06</td>\n",
       "      <td>2017.000000</td>\n",
       "      <td>8.637500e+07</td>\n",
       "    </tr>\n",
       "  </tbody>\n",
       "</table>\n",
       "</div>"
      ],
      "text/plain": [
       "           BOROUGH         BLOCK          LOT      ZIP CODE  \\\n",
       "count  3579.000000   3579.000000  3579.000000   3579.000000   \n",
       "mean      2.966192   4150.419670   381.842414  10680.873987   \n",
       "std       1.294840   3531.382379   637.913571   1447.476149   \n",
       "min       1.000000      3.000000     1.000000      0.000000   \n",
       "25%       2.000000   1323.500000    22.000000  10303.000000   \n",
       "50%       3.000000   3164.000000    50.000000  11208.000000   \n",
       "75%       4.000000   6067.500000  1002.000000  11355.000000   \n",
       "max       5.000000  16316.000000  7232.000000  11694.000000   \n",
       "\n",
       "       RESIDENTIAL UNITS  COMMERCIAL UNITS  TOTAL UNITS  LAND SQUARE FEET  \\\n",
       "count        3579.000000       3579.000000  3579.000000      3.579000e+03   \n",
       "mean            2.290025          0.153674     2.473875      3.605483e+03   \n",
       "std            31.872076          3.250381    32.387727      7.225966e+04   \n",
       "min             0.000000          0.000000     0.000000      0.000000e+00   \n",
       "25%             0.000000          0.000000     1.000000      0.000000e+00   \n",
       "50%             1.000000          0.000000     1.000000      1.710000e+03   \n",
       "75%             2.000000          0.000000     2.000000      2.668500e+03   \n",
       "max          1844.000000        184.000000  1866.000000      4.228300e+06   \n",
       "\n",
       "        YEAR BUILT    SALE PRICE  \n",
       "count  3579.000000  3.579000e+03  \n",
       "mean   1782.920648  1.005316e+06  \n",
       "std     547.202378  3.513772e+06  \n",
       "min       0.000000  0.000000e+00  \n",
       "25%    1920.000000  0.000000e+00  \n",
       "50%    1940.000000  4.300000e+05  \n",
       "75%    1966.000000  8.475000e+05  \n",
       "max    2017.000000  8.637500e+07  "
      ]
     },
     "execution_count": 4,
     "metadata": {},
     "output_type": "execute_result"
    }
   ],
   "source": [
    "df.describe()"
   ]
  },
  {
   "cell_type": "markdown",
   "id": "5be54580",
   "metadata": {},
   "source": [
    "Read this - BOROUGH: A digit code for the borough the property is located in; in order these are Manhattan (1), Bronx (2), Brooklyn (3), Queens (4), and Staten Island (5).\n",
    "\n",
    "After reading answers the following questions :-\n",
    "1. How many property is located in Manhattan (1).\n",
    "2. How many property is located in Bronx (2).\n",
    "3. How many property is located in Brooklyn (3).\n",
    "4. How many property is located in Queens (4).\n",
    "5. How many property is located in Staten Island (5)."
   ]
  },
  {
   "cell_type": "code",
   "execution_count": 5,
   "id": "7198a6e4",
   "metadata": {},
   "outputs": [
    {
     "data": {
      "text/html": [
       "<div>\n",
       "<style scoped>\n",
       "    .dataframe tbody tr th:only-of-type {\n",
       "        vertical-align: middle;\n",
       "    }\n",
       "\n",
       "    .dataframe tbody tr th {\n",
       "        vertical-align: top;\n",
       "    }\n",
       "\n",
       "    .dataframe thead th {\n",
       "        text-align: right;\n",
       "    }\n",
       "</style>\n",
       "<table border=\"1\" class=\"dataframe\">\n",
       "  <thead>\n",
       "    <tr style=\"text-align: right;\">\n",
       "      <th></th>\n",
       "      <th>BOROUGH</th>\n",
       "      <th>NEIGHBORHOOD</th>\n",
       "      <th>BUILDING CLASS CATEGORY</th>\n",
       "      <th>TAX CLASS AT PRESENT</th>\n",
       "      <th>BLOCK</th>\n",
       "      <th>LOT</th>\n",
       "      <th>ADDRESS</th>\n",
       "      <th>ZIP CODE</th>\n",
       "      <th>RESIDENTIAL UNITS</th>\n",
       "      <th>COMMERCIAL UNITS</th>\n",
       "      <th>TOTAL UNITS</th>\n",
       "      <th>LAND SQUARE FEET</th>\n",
       "      <th>YEAR BUILT</th>\n",
       "      <th>SALE PRICE</th>\n",
       "      <th>SALE DATE</th>\n",
       "    </tr>\n",
       "  </thead>\n",
       "  <tbody>\n",
       "    <tr>\n",
       "      <th>0</th>\n",
       "      <td>3</td>\n",
       "      <td>KENSINGTON</td>\n",
       "      <td>09 COOPS - WALKUP APARTMENTS</td>\n",
       "      <td>2</td>\n",
       "      <td>5329</td>\n",
       "      <td>62</td>\n",
       "      <td>179 OCEAN PARKWAY, 3A</td>\n",
       "      <td>11218</td>\n",
       "      <td>0</td>\n",
       "      <td>0</td>\n",
       "      <td>0</td>\n",
       "      <td>0</td>\n",
       "      <td>1923</td>\n",
       "      <td>389000</td>\n",
       "      <td>8/1/2017</td>\n",
       "    </tr>\n",
       "    <tr>\n",
       "      <th>1</th>\n",
       "      <td>3</td>\n",
       "      <td>BAY RIDGE</td>\n",
       "      <td>02 TWO FAMILY DWELLINGS</td>\n",
       "      <td>1</td>\n",
       "      <td>5911</td>\n",
       "      <td>8</td>\n",
       "      <td>7205 6 AVENUE</td>\n",
       "      <td>11209</td>\n",
       "      <td>2</td>\n",
       "      <td>0</td>\n",
       "      <td>2</td>\n",
       "      <td>2177</td>\n",
       "      <td>1910</td>\n",
       "      <td>0</td>\n",
       "      <td>5/30/2017</td>\n",
       "    </tr>\n",
       "    <tr>\n",
       "      <th>2</th>\n",
       "      <td>1</td>\n",
       "      <td>UPPER EAST SIDE (79-96)</td>\n",
       "      <td>10 COOPS - ELEVATOR APARTMENTS</td>\n",
       "      <td>2</td>\n",
       "      <td>1512</td>\n",
       "      <td>1</td>\n",
       "      <td>983 PARK AVENUE, 3C</td>\n",
       "      <td>10028</td>\n",
       "      <td>0</td>\n",
       "      <td>0</td>\n",
       "      <td>0</td>\n",
       "      <td>0</td>\n",
       "      <td>1927</td>\n",
       "      <td>7600000</td>\n",
       "      <td>5/10/2017</td>\n",
       "    </tr>\n",
       "    <tr>\n",
       "      <th>3</th>\n",
       "      <td>4</td>\n",
       "      <td>ROCKAWAY PARK</td>\n",
       "      <td>03 THREE FAMILY DWELLINGS</td>\n",
       "      <td>1</td>\n",
       "      <td>16213</td>\n",
       "      <td>16</td>\n",
       "      <td>241 BEACH 117 STREET</td>\n",
       "      <td>11694</td>\n",
       "      <td>3</td>\n",
       "      <td>0</td>\n",
       "      <td>3</td>\n",
       "      <td>4000</td>\n",
       "      <td>1905</td>\n",
       "      <td>0</td>\n",
       "      <td>5/12/2017</td>\n",
       "    </tr>\n",
       "    <tr>\n",
       "      <th>4</th>\n",
       "      <td>4</td>\n",
       "      <td>DOUGLASTON</td>\n",
       "      <td>02 TWO FAMILY DWELLINGS</td>\n",
       "      <td>1</td>\n",
       "      <td>8304</td>\n",
       "      <td>28</td>\n",
       "      <td>245-71 61ST   AVENUE</td>\n",
       "      <td>11362</td>\n",
       "      <td>2</td>\n",
       "      <td>0</td>\n",
       "      <td>2</td>\n",
       "      <td>3600</td>\n",
       "      <td>1950</td>\n",
       "      <td>844180</td>\n",
       "      <td>6/27/2017</td>\n",
       "    </tr>\n",
       "  </tbody>\n",
       "</table>\n",
       "</div>"
      ],
      "text/plain": [
       "   BOROUGH             NEIGHBORHOOD  \\\n",
       "0        3               KENSINGTON   \n",
       "1        3                BAY RIDGE   \n",
       "2        1  UPPER EAST SIDE (79-96)   \n",
       "3        4            ROCKAWAY PARK   \n",
       "4        4               DOUGLASTON   \n",
       "\n",
       "                       BUILDING CLASS CATEGORY TAX CLASS AT PRESENT  BLOCK  \\\n",
       "0  09 COOPS - WALKUP APARTMENTS                                   2   5329   \n",
       "1  02 TWO FAMILY DWELLINGS                                        1   5911   \n",
       "2  10 COOPS - ELEVATOR APARTMENTS                                 2   1512   \n",
       "3  03 THREE FAMILY DWELLINGS                                      1  16213   \n",
       "4  02 TWO FAMILY DWELLINGS                                        1   8304   \n",
       "\n",
       "   LOT                ADDRESS  ZIP CODE  RESIDENTIAL UNITS  COMMERCIAL UNITS  \\\n",
       "0   62  179 OCEAN PARKWAY, 3A     11218                  0                 0   \n",
       "1    8          7205 6 AVENUE     11209                  2                 0   \n",
       "2    1    983 PARK AVENUE, 3C     10028                  0                 0   \n",
       "3   16   241 BEACH 117 STREET     11694                  3                 0   \n",
       "4   28   245-71 61ST   AVENUE     11362                  2                 0   \n",
       "\n",
       "   TOTAL UNITS  LAND SQUARE FEET  YEAR BUILT  SALE PRICE  SALE DATE  \n",
       "0            0                 0        1923      389000   8/1/2017  \n",
       "1            2              2177        1910           0  5/30/2017  \n",
       "2            0                 0        1927     7600000  5/10/2017  \n",
       "3            3              4000        1905           0  5/12/2017  \n",
       "4            2              3600        1950      844180  6/27/2017  "
      ]
     },
     "execution_count": 5,
     "metadata": {},
     "output_type": "execute_result"
    }
   ],
   "source": [
    "df.head()"
   ]
  },
  {
   "cell_type": "markdown",
   "id": "82dd1853-acaf-41e8-92bb-c864c643e44a",
   "metadata": {},
   "source": [
    "1. How many property is located in Manhattan (1)."
   ]
  },
  {
   "cell_type": "code",
   "execution_count": 14,
   "id": "e603f674-33fe-44f4-95c8-a5162908b32c",
   "metadata": {},
   "outputs": [
    {
     "data": {
      "text/plain": [
       "803"
      ]
     },
     "execution_count": 14,
     "metadata": {},
     "output_type": "execute_result"
    }
   ],
   "source": [
    "len(df[df[\"BOROUGH\"]==1])"
   ]
  },
  {
   "cell_type": "markdown",
   "id": "274def49-b4f7-4875-87e0-56df7e1b7e45",
   "metadata": {},
   "source": [
    "2.How many property is located in Bronx (2)."
   ]
  },
  {
   "cell_type": "code",
   "execution_count": 19,
   "id": "da9a82e9-1917-4f0e-ac7c-6f711bfb784d",
   "metadata": {},
   "outputs": [
    {
     "data": {
      "text/plain": [
       "306"
      ]
     },
     "execution_count": 19,
     "metadata": {},
     "output_type": "execute_result"
    }
   ],
   "source": [
    "len(df[df[\"BOROUGH\"]==2])"
   ]
  },
  {
   "cell_type": "markdown",
   "id": "877320ac-bfbf-4650-84a4-b55a481abec4",
   "metadata": {},
   "source": [
    "3.How many property is located in Brooklyn (3).\n",
    "\n"
   ]
  },
  {
   "cell_type": "code",
   "execution_count": 24,
   "id": "ec1c3ec0-81a3-42e6-89ae-90af02da02c7",
   "metadata": {},
   "outputs": [
    {
     "data": {
      "text/plain": [
       "1026"
      ]
     },
     "execution_count": 24,
     "metadata": {},
     "output_type": "execute_result"
    }
   ],
   "source": [
    "len(df[df[\"BOROUGH\"]==3])\n"
   ]
  },
  {
   "cell_type": "markdown",
   "id": "7692486f-08df-4e22-bb98-227c2d88c412",
   "metadata": {},
   "source": [
    "4.How many property is located in Queens (4)."
   ]
  },
  {
   "cell_type": "code",
   "execution_count": 25,
   "id": "8e249003-a0d8-4d8c-8876-49fbe30513da",
   "metadata": {},
   "outputs": [
    {
     "data": {
      "text/plain": [
       "1097"
      ]
     },
     "execution_count": 25,
     "metadata": {},
     "output_type": "execute_result"
    }
   ],
   "source": [
    "len(df[df[\"BOROUGH\"]==4])"
   ]
  },
  {
   "cell_type": "markdown",
   "id": "ddf138ec-46a1-4402-aa8c-72fa9699ec39",
   "metadata": {},
   "source": [
    "5.How many property is located in Staten Island (5)."
   ]
  },
  {
   "cell_type": "code",
   "execution_count": 26,
   "id": "8c30a515-c9f7-410e-87e8-6031c8bf65d4",
   "metadata": {},
   "outputs": [
    {
     "data": {
      "text/plain": [
       "347"
      ]
     },
     "execution_count": 26,
     "metadata": {},
     "output_type": "execute_result"
    }
   ],
   "source": [
    "len(df[df[\"BOROUGH\"]==5])"
   ]
  },
  {
   "cell_type": "markdown",
   "id": "ee09311b",
   "metadata": {},
   "source": [
    "1. How many property have more than 60 RESIDENTIAL UNITS.\n",
    "2. How many property have 10 COMMERCIAL UNITS.\n",
    "3. How many property have 300 TOTAL UNITS.\n",
    "4. How many property have at least 40 RESIDENTIAL UNITS as well as at least 10 COMMERCIAL UNITS.\n",
    "5. How many property have zero RESIDENTIAL UNITS.\n",
    "6. How many property have zero COMMERCIAL UNITS."
   ]
  },
  {
   "cell_type": "code",
   "execution_count": 42,
   "id": "e29df2f9-3734-4dc4-aa23-067b7a581516",
   "metadata": {},
   "outputs": [
    {
     "data": {
      "text/plain": [
       "10"
      ]
     },
     "execution_count": 42,
     "metadata": {},
     "output_type": "execute_result"
    }
   ],
   "source": [
    "#1.\n",
    "len(df[(df['RESIDENTIAL UNITS']>60)])"
   ]
  },
  {
   "cell_type": "code",
   "execution_count": 115,
   "id": "afbb8ae1-8d90-4eb8-bcbc-7f647d6b0801",
   "metadata": {},
   "outputs": [
    {
     "data": {
      "text/plain": [
       "0"
      ]
     },
     "execution_count": 115,
     "metadata": {},
     "output_type": "execute_result"
    }
   ],
   "source": [
    "#2.\n",
    "len(df[(df['COMMERCIAL UNITS']==10)])"
   ]
  },
  {
   "cell_type": "code",
   "execution_count": 117,
   "id": "4b2fc4bb-791a-4daf-961d-58f1eff2d386",
   "metadata": {},
   "outputs": [
    {
     "data": {
      "text/plain": [
       "0"
      ]
     },
     "execution_count": 117,
     "metadata": {},
     "output_type": "execute_result"
    }
   ],
   "source": [
    "#3.\n",
    "len(df[df['TOTAL UNITS']==300])\n"
   ]
  },
  {
   "cell_type": "markdown",
   "id": "386f60eb-bba0-4dab-87a5-6e21abb1fbb8",
   "metadata": {},
   "source": [
    "How many property have at least 40 RESIDENTIAL UNITS as well as at least 10 COMMERCIAL UNITS."
   ]
  },
  {
   "cell_type": "code",
   "execution_count": 103,
   "id": "6d0fc302-c8d9-47cd-be04-bdd718c0f91a",
   "metadata": {},
   "outputs": [
    {
     "data": {
      "text/plain": [
       "1"
      ]
     },
     "execution_count": 103,
     "metadata": {},
     "output_type": "execute_result"
    }
   ],
   "source": [
    "#4.\n",
    "len(df[(df['RESIDENTIAL UNITS']>40)& (df['COMMERCIAL UNITS']>10)])"
   ]
  },
  {
   "cell_type": "markdown",
   "id": "9e6f0a0d-333c-49bd-ae14-a4122d56146a",
   "metadata": {},
   "source": [
    "How many property have zero RESIDENTIAL UNITS."
   ]
  },
  {
   "cell_type": "code",
   "execution_count": 71,
   "id": "ce9f0dc0-f37e-4926-8267-894bc2caae66",
   "metadata": {},
   "outputs": [
    {
     "data": {
      "text/plain": [
       "1053"
      ]
     },
     "execution_count": 71,
     "metadata": {},
     "output_type": "execute_result"
    }
   ],
   "source": [
    "#5.\n",
    "len(df[df['RESIDENTIAL UNITS']==0])"
   ]
  },
  {
   "cell_type": "markdown",
   "id": "a7168eb0-be4e-4af2-a757-f89e27c756e7",
   "metadata": {},
   "source": [
    "How many property have zero COMMERCIAL UNITS?"
   ]
  },
  {
   "cell_type": "code",
   "execution_count": 72,
   "id": "bb769f36-29ab-41f1-a72b-0b20f11238df",
   "metadata": {},
   "outputs": [
    {
     "data": {
      "text/plain": [
       "3382"
      ]
     },
     "execution_count": 72,
     "metadata": {},
     "output_type": "execute_result"
    }
   ],
   "source": [
    "len(df[df['COMMERCIAL UNITS']==0])"
   ]
  },
  {
   "cell_type": "code",
   "execution_count": 73,
   "id": "2fc4be83-b10c-4934-b71e-7cbab0659a70",
   "metadata": {},
   "outputs": [
    {
     "data": {
      "text/html": [
       "<div>\n",
       "<style scoped>\n",
       "    .dataframe tbody tr th:only-of-type {\n",
       "        vertical-align: middle;\n",
       "    }\n",
       "\n",
       "    .dataframe tbody tr th {\n",
       "        vertical-align: top;\n",
       "    }\n",
       "\n",
       "    .dataframe thead th {\n",
       "        text-align: right;\n",
       "    }\n",
       "</style>\n",
       "<table border=\"1\" class=\"dataframe\">\n",
       "  <thead>\n",
       "    <tr style=\"text-align: right;\">\n",
       "      <th></th>\n",
       "      <th>BOROUGH</th>\n",
       "      <th>NEIGHBORHOOD</th>\n",
       "      <th>BUILDING CLASS CATEGORY</th>\n",
       "      <th>TAX CLASS AT PRESENT</th>\n",
       "      <th>BLOCK</th>\n",
       "      <th>LOT</th>\n",
       "      <th>ADDRESS</th>\n",
       "      <th>ZIP CODE</th>\n",
       "      <th>RESIDENTIAL UNITS</th>\n",
       "      <th>COMMERCIAL UNITS</th>\n",
       "      <th>TOTAL UNITS</th>\n",
       "      <th>LAND SQUARE FEET</th>\n",
       "      <th>YEAR BUILT</th>\n",
       "      <th>SALE PRICE</th>\n",
       "      <th>SALE DATE</th>\n",
       "    </tr>\n",
       "  </thead>\n",
       "  <tbody>\n",
       "    <tr>\n",
       "      <th>0</th>\n",
       "      <td>3</td>\n",
       "      <td>KENSINGTON</td>\n",
       "      <td>09 COOPS - WALKUP APARTMENTS</td>\n",
       "      <td>2</td>\n",
       "      <td>5329</td>\n",
       "      <td>62</td>\n",
       "      <td>179 OCEAN PARKWAY, 3A</td>\n",
       "      <td>11218</td>\n",
       "      <td>0</td>\n",
       "      <td>0</td>\n",
       "      <td>0</td>\n",
       "      <td>0</td>\n",
       "      <td>1923</td>\n",
       "      <td>389000</td>\n",
       "      <td>8/1/2017</td>\n",
       "    </tr>\n",
       "    <tr>\n",
       "      <th>1</th>\n",
       "      <td>3</td>\n",
       "      <td>BAY RIDGE</td>\n",
       "      <td>02 TWO FAMILY DWELLINGS</td>\n",
       "      <td>1</td>\n",
       "      <td>5911</td>\n",
       "      <td>8</td>\n",
       "      <td>7205 6 AVENUE</td>\n",
       "      <td>11209</td>\n",
       "      <td>2</td>\n",
       "      <td>0</td>\n",
       "      <td>2</td>\n",
       "      <td>2177</td>\n",
       "      <td>1910</td>\n",
       "      <td>0</td>\n",
       "      <td>5/30/2017</td>\n",
       "    </tr>\n",
       "    <tr>\n",
       "      <th>2</th>\n",
       "      <td>1</td>\n",
       "      <td>UPPER EAST SIDE (79-96)</td>\n",
       "      <td>10 COOPS - ELEVATOR APARTMENTS</td>\n",
       "      <td>2</td>\n",
       "      <td>1512</td>\n",
       "      <td>1</td>\n",
       "      <td>983 PARK AVENUE, 3C</td>\n",
       "      <td>10028</td>\n",
       "      <td>0</td>\n",
       "      <td>0</td>\n",
       "      <td>0</td>\n",
       "      <td>0</td>\n",
       "      <td>1927</td>\n",
       "      <td>7600000</td>\n",
       "      <td>5/10/2017</td>\n",
       "    </tr>\n",
       "    <tr>\n",
       "      <th>3</th>\n",
       "      <td>4</td>\n",
       "      <td>ROCKAWAY PARK</td>\n",
       "      <td>03 THREE FAMILY DWELLINGS</td>\n",
       "      <td>1</td>\n",
       "      <td>16213</td>\n",
       "      <td>16</td>\n",
       "      <td>241 BEACH 117 STREET</td>\n",
       "      <td>11694</td>\n",
       "      <td>3</td>\n",
       "      <td>0</td>\n",
       "      <td>3</td>\n",
       "      <td>4000</td>\n",
       "      <td>1905</td>\n",
       "      <td>0</td>\n",
       "      <td>5/12/2017</td>\n",
       "    </tr>\n",
       "    <tr>\n",
       "      <th>4</th>\n",
       "      <td>4</td>\n",
       "      <td>DOUGLASTON</td>\n",
       "      <td>02 TWO FAMILY DWELLINGS</td>\n",
       "      <td>1</td>\n",
       "      <td>8304</td>\n",
       "      <td>28</td>\n",
       "      <td>245-71 61ST   AVENUE</td>\n",
       "      <td>11362</td>\n",
       "      <td>2</td>\n",
       "      <td>0</td>\n",
       "      <td>2</td>\n",
       "      <td>3600</td>\n",
       "      <td>1950</td>\n",
       "      <td>844180</td>\n",
       "      <td>6/27/2017</td>\n",
       "    </tr>\n",
       "  </tbody>\n",
       "</table>\n",
       "</div>"
      ],
      "text/plain": [
       "   BOROUGH             NEIGHBORHOOD  \\\n",
       "0        3               KENSINGTON   \n",
       "1        3                BAY RIDGE   \n",
       "2        1  UPPER EAST SIDE (79-96)   \n",
       "3        4            ROCKAWAY PARK   \n",
       "4        4               DOUGLASTON   \n",
       "\n",
       "                       BUILDING CLASS CATEGORY TAX CLASS AT PRESENT  BLOCK  \\\n",
       "0  09 COOPS - WALKUP APARTMENTS                                   2   5329   \n",
       "1  02 TWO FAMILY DWELLINGS                                        1   5911   \n",
       "2  10 COOPS - ELEVATOR APARTMENTS                                 2   1512   \n",
       "3  03 THREE FAMILY DWELLINGS                                      1  16213   \n",
       "4  02 TWO FAMILY DWELLINGS                                        1   8304   \n",
       "\n",
       "   LOT                ADDRESS  ZIP CODE  RESIDENTIAL UNITS  COMMERCIAL UNITS  \\\n",
       "0   62  179 OCEAN PARKWAY, 3A     11218                  0                 0   \n",
       "1    8          7205 6 AVENUE     11209                  2                 0   \n",
       "2    1    983 PARK AVENUE, 3C     10028                  0                 0   \n",
       "3   16   241 BEACH 117 STREET     11694                  3                 0   \n",
       "4   28   245-71 61ST   AVENUE     11362                  2                 0   \n",
       "\n",
       "   TOTAL UNITS  LAND SQUARE FEET  YEAR BUILT  SALE PRICE  SALE DATE  \n",
       "0            0                 0        1923      389000   8/1/2017  \n",
       "1            2              2177        1910           0  5/30/2017  \n",
       "2            0                 0        1927     7600000  5/10/2017  \n",
       "3            3              4000        1905           0  5/12/2017  \n",
       "4            2              3600        1950      844180  6/27/2017  "
      ]
     },
     "execution_count": 73,
     "metadata": {},
     "output_type": "execute_result"
    }
   ],
   "source": [
    "df.head()"
   ]
  },
  {
   "cell_type": "code",
   "execution_count": null,
   "id": "29adaf32-74f0-4579-aa88-f6e8c012c1ed",
   "metadata": {},
   "outputs": [],
   "source": []
  },
  {
   "cell_type": "markdown",
   "id": "39163193",
   "metadata": {},
   "source": [
    "How many Property have zero SALE PRICE"
   ]
  },
  {
   "cell_type": "code",
   "execution_count": 74,
   "id": "b19de84e",
   "metadata": {},
   "outputs": [
    {
     "data": {
      "text/plain": [
       "1023"
      ]
     },
     "execution_count": 74,
     "metadata": {},
     "output_type": "execute_result"
    }
   ],
   "source": [
    "len(df[df['SALE PRICE']==0])"
   ]
  },
  {
   "cell_type": "markdown",
   "id": "5ea7a2b5",
   "metadata": {},
   "source": [
    "How many property have more than 10000 LAND SQUARE FEET and build befor 1970"
   ]
  },
  {
   "cell_type": "code",
   "execution_count": 83,
   "id": "cefae8ab",
   "metadata": {},
   "outputs": [
    {
     "data": {
      "text/plain": [
       "46"
      ]
     },
     "execution_count": 83,
     "metadata": {},
     "output_type": "execute_result"
    }
   ],
   "source": [
    "len(df[(df['LAND SQUARE FEET']>10000) & (df['YEAR BUILT']<1970) ])"
   ]
  },
  {
   "cell_type": "markdown",
   "id": "ee42ad01",
   "metadata": {},
   "source": [
    "How many property have \"1A\" and \"2A\" TAX CLASS AT PRESENT respectively also have at least 1 million dollar SALE PRICE"
   ]
  },
  {
   "cell_type": "code",
   "execution_count": 104,
   "id": "3677920c-463d-4a28-9bbe-892b3427fc91",
   "metadata": {},
   "outputs": [
    {
     "data": {
      "text/plain": [
       "96"
      ]
     },
     "execution_count": 104,
     "metadata": {},
     "output_type": "execute_result"
    }
   ],
   "source": [
    "len(df[(df['TAX CLASS AT PRESENT']=='1A')|(df['TAX CLASS AT PRESENT']=='2A') & (df['SALE PRICE']>=1000000) ])"
   ]
  },
  {
   "cell_type": "code",
   "execution_count": 105,
   "id": "4c52c304",
   "metadata": {},
   "outputs": [
    {
     "data": {
      "text/html": [
       "<div>\n",
       "<style scoped>\n",
       "    .dataframe tbody tr th:only-of-type {\n",
       "        vertical-align: middle;\n",
       "    }\n",
       "\n",
       "    .dataframe tbody tr th {\n",
       "        vertical-align: top;\n",
       "    }\n",
       "\n",
       "    .dataframe thead th {\n",
       "        text-align: right;\n",
       "    }\n",
       "</style>\n",
       "<table border=\"1\" class=\"dataframe\">\n",
       "  <thead>\n",
       "    <tr style=\"text-align: right;\">\n",
       "      <th></th>\n",
       "      <th>BOROUGH</th>\n",
       "      <th>NEIGHBORHOOD</th>\n",
       "      <th>BUILDING CLASS CATEGORY</th>\n",
       "      <th>TAX CLASS AT PRESENT</th>\n",
       "      <th>BLOCK</th>\n",
       "      <th>LOT</th>\n",
       "      <th>ADDRESS</th>\n",
       "      <th>ZIP CODE</th>\n",
       "      <th>RESIDENTIAL UNITS</th>\n",
       "      <th>COMMERCIAL UNITS</th>\n",
       "      <th>TOTAL UNITS</th>\n",
       "      <th>LAND SQUARE FEET</th>\n",
       "      <th>YEAR BUILT</th>\n",
       "      <th>SALE PRICE</th>\n",
       "      <th>SALE DATE</th>\n",
       "    </tr>\n",
       "  </thead>\n",
       "  <tbody>\n",
       "    <tr>\n",
       "      <th>0</th>\n",
       "      <td>3</td>\n",
       "      <td>KENSINGTON</td>\n",
       "      <td>09 COOPS - WALKUP APARTMENTS</td>\n",
       "      <td>2</td>\n",
       "      <td>5329</td>\n",
       "      <td>62</td>\n",
       "      <td>179 OCEAN PARKWAY, 3A</td>\n",
       "      <td>11218</td>\n",
       "      <td>0</td>\n",
       "      <td>0</td>\n",
       "      <td>0</td>\n",
       "      <td>0</td>\n",
       "      <td>1923</td>\n",
       "      <td>389000</td>\n",
       "      <td>8/1/2017</td>\n",
       "    </tr>\n",
       "    <tr>\n",
       "      <th>1</th>\n",
       "      <td>3</td>\n",
       "      <td>BAY RIDGE</td>\n",
       "      <td>02 TWO FAMILY DWELLINGS</td>\n",
       "      <td>1</td>\n",
       "      <td>5911</td>\n",
       "      <td>8</td>\n",
       "      <td>7205 6 AVENUE</td>\n",
       "      <td>11209</td>\n",
       "      <td>2</td>\n",
       "      <td>0</td>\n",
       "      <td>2</td>\n",
       "      <td>2177</td>\n",
       "      <td>1910</td>\n",
       "      <td>0</td>\n",
       "      <td>5/30/2017</td>\n",
       "    </tr>\n",
       "    <tr>\n",
       "      <th>2</th>\n",
       "      <td>1</td>\n",
       "      <td>UPPER EAST SIDE (79-96)</td>\n",
       "      <td>10 COOPS - ELEVATOR APARTMENTS</td>\n",
       "      <td>2</td>\n",
       "      <td>1512</td>\n",
       "      <td>1</td>\n",
       "      <td>983 PARK AVENUE, 3C</td>\n",
       "      <td>10028</td>\n",
       "      <td>0</td>\n",
       "      <td>0</td>\n",
       "      <td>0</td>\n",
       "      <td>0</td>\n",
       "      <td>1927</td>\n",
       "      <td>7600000</td>\n",
       "      <td>5/10/2017</td>\n",
       "    </tr>\n",
       "  </tbody>\n",
       "</table>\n",
       "</div>"
      ],
      "text/plain": [
       "   BOROUGH             NEIGHBORHOOD  \\\n",
       "0        3               KENSINGTON   \n",
       "1        3                BAY RIDGE   \n",
       "2        1  UPPER EAST SIDE (79-96)   \n",
       "\n",
       "                       BUILDING CLASS CATEGORY TAX CLASS AT PRESENT  BLOCK  \\\n",
       "0  09 COOPS - WALKUP APARTMENTS                                   2   5329   \n",
       "1  02 TWO FAMILY DWELLINGS                                        1   5911   \n",
       "2  10 COOPS - ELEVATOR APARTMENTS                                 2   1512   \n",
       "\n",
       "   LOT                ADDRESS  ZIP CODE  RESIDENTIAL UNITS  COMMERCIAL UNITS  \\\n",
       "0   62  179 OCEAN PARKWAY, 3A     11218                  0                 0   \n",
       "1    8          7205 6 AVENUE     11209                  2                 0   \n",
       "2    1    983 PARK AVENUE, 3C     10028                  0                 0   \n",
       "\n",
       "   TOTAL UNITS  LAND SQUARE FEET  YEAR BUILT  SALE PRICE  SALE DATE  \n",
       "0            0                 0        1923      389000   8/1/2017  \n",
       "1            2              2177        1910           0  5/30/2017  \n",
       "2            0                 0        1927     7600000  5/10/2017  "
      ]
     },
     "execution_count": 105,
     "metadata": {},
     "output_type": "execute_result"
    }
   ],
   "source": [
    "df.head(3)"
   ]
  },
  {
   "cell_type": "markdown",
   "id": "5cb341dc",
   "metadata": {},
   "source": [
    "How many Property were build in 1980's decade"
   ]
  },
  {
   "cell_type": "code",
   "execution_count": 110,
   "id": "ee2b3457",
   "metadata": {},
   "outputs": [
    {
     "data": {
      "text/plain": [
       "20"
      ]
     },
     "execution_count": 110,
     "metadata": {},
     "output_type": "execute_result"
    }
   ],
   "source": [
    "len(df[df['YEAR BUILT']==1980])"
   ]
  },
  {
   "cell_type": "code",
   "execution_count": null,
   "id": "9c3f3314-61c5-4716-9144-5a88d01b6412",
   "metadata": {},
   "outputs": [],
   "source": []
  }
 ],
 "metadata": {
  "kernelspec": {
   "display_name": "Python 3",
   "language": "python",
   "name": "python3"
  },
  "language_info": {
   "codemirror_mode": {
    "name": "ipython",
    "version": 3
   },
   "file_extension": ".py",
   "mimetype": "text/x-python",
   "name": "python",
   "nbconvert_exporter": "python",
   "pygments_lexer": "ipython3",
   "version": "3.8.8"
  }
 },
 "nbformat": 4,
 "nbformat_minor": 5
}
